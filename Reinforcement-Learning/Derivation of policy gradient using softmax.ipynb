{
 "cells": [
  {
   "cell_type": "markdown",
   "metadata": {},
   "source": [
    "# Used in course 3, week 4 - the derivation of a ln(softmax(X)) function"
   ]
  },
  {
   "cell_type": "markdown",
   "metadata": {},
   "source": [
    "$ \\pi(A|S,\\mathbf{\\theta}) = softmax(a, s,\\mathbf{\\theta}) = \\frac{e^{h(s,a)}}{\\sum_b e^{h(s,b)}} \\; ;\\; \\; h(s,a) = \\theta^T X(s,a) \\hspace{3.3em}$\n",
    "\n",
    "$\\ln( \\pi(A|S,\\mathbf{\\theta})) = \\ln(e^{h(s,a)}) - \\ln(\\sum_b e^{h(s,b)})$\n",
    "\n",
    "$ \\nabla ln \\pi(A|S,\\mathbf{\\theta}) = \\nabla h(s,a) - \\frac{1}{\\sum_b e^{h(s,b)}} \\sum_b e^{h(s,b)} \\nabla h(s,b) \\; ; \\; \\nabla h(s,a) = X(s,a)$\n",
    "\n",
    "$\\nabla ln \\pi(A|S,\\mathbf{\\theta}) = \\mathbf{x}_h(s,a) - \\sum_b \\pi(b|s, \\mathbf{\\theta})\\mathbf{x}_h(s,b) \\hspace{3.3em}$"
   ]
  },
  {
   "cell_type": "code",
   "execution_count": null,
   "metadata": {},
   "outputs": [],
   "source": []
  }
 ],
 "metadata": {
  "kernelspec": {
   "display_name": "Python 3",
   "language": "python",
   "name": "python3"
  },
  "language_info": {
   "codemirror_mode": {
    "name": "ipython",
    "version": 3
   },
   "file_extension": ".py",
   "mimetype": "text/x-python",
   "name": "python",
   "nbconvert_exporter": "python",
   "pygments_lexer": "ipython3",
   "version": "3.7.3"
  }
 },
 "nbformat": 4,
 "nbformat_minor": 2
}
